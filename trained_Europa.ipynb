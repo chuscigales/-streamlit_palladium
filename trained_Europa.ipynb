{
  "nbformat": 4,
  "nbformat_minor": 0,
  "metadata": {
    "colab": {
      "provenance": [],
      "collapsed_sections": [],
      "include_colab_link": true
    },
    "kernelspec": {
      "name": "python3",
      "display_name": "Python 3"
    },
    "language_info": {
      "name": "python"
    }
  },
  "cells": [
    {
      "cell_type": "markdown",
      "metadata": {
        "id": "view-in-github",
        "colab_type": "text"
      },
      "source": [
        "<a href=\"https://colab.research.google.com/github/chuscigales/streamlit_palladium/blob/main/trained_Europa.ipynb\" target=\"_parent\"><img src=\"https://colab.research.google.com/assets/colab-badge.svg\" alt=\"Open In Colab\"/></a>"
      ]
    },
    {
      "cell_type": "code",
      "execution_count": null,
      "metadata": {
        "id": "elLddPBAhATM",
        "colab": {
          "base_uri": "https://localhost:8080/"
        },
        "outputId": "a9067403-ca68-4bd4-b946-9d0b0c7c98b7"
      },
      "outputs": [
        {
          "output_type": "stream",
          "name": "stdout",
          "text": [
            "Drive already mounted at /content/drive; to attempt to forcibly remount, call drive.mount(\"/content/drive\", force_remount=True).\n"
          ]
        }
      ],
      "source": [
        "import pandas as pd\n",
        "import numpy as np\n",
        "import matplotlib.pyplot as plt\n",
        "import seaborn as sns\n",
        "from google.colab import drive\n",
        "import datetime as dt\n",
        "import sklearn\n",
        "drive.mount('/content/drive')"
      ]
    },
    {
      "cell_type": "code",
      "source": [
        "data = '/content/drive/MyDrive/TFM - Palladium/PROYECTO LIMPIO/europa_sin_covid.csv'\n",
        "df_data = pd.read_csv(data, sep=\",\")\n",
        "df_data"
      ],
      "metadata": {
        "colab": {
          "base_uri": "https://localhost:8080/",
          "height": 731
        },
        "id": "KSSyQ_mahZSJ",
        "outputId": "9877c68c-6289-4772-f3fa-7fbe1bbd66b7"
      },
      "execution_count": null,
      "outputs": [
        {
          "output_type": "execute_result",
          "data": {
            "text/plain": [
              "        Unnamed: 0  Unnamed: 0.1  Unnamed: 0.1.1  ID_HOTEL COD_CENTRAL  \\\n",
              "0                0          5871           16017        94         EUR   \n",
              "1                1          5872           16018        94         EUR   \n",
              "2                2          5873           16019        94         EUR   \n",
              "3                3          5874           16020        94         EUR   \n",
              "4                4          5875           16021        94         EUR   \n",
              "...            ...           ...             ...       ...         ...   \n",
              "160683      226160        941364         2549257        94         EUR   \n",
              "160684      226161        941365         2549260        94         EUR   \n",
              "160685      226162        941366         2549261        30         EUR   \n",
              "160686      226163        941367         2549264        15         EUR   \n",
              "160687      226187        944943         2560353        30         EUR   \n",
              "\n",
              "              LOCALIZADOR     LLEGADA      SALIDA  NOCHES  \\\n",
              "0            94CJ2006782M  2021-09-09  2021-09-11       2   \n",
              "1       297200290J-STM-CH  2021-10-20  2021-10-23       3   \n",
              "2            94CX2055762M  2021-10-20  2021-10-24       4   \n",
              "3            94CX2055762M  2021-10-20  2021-10-24       4   \n",
              "4       302686970L-STM-CH  2021-10-20  2021-10-21       1   \n",
              "...                   ...         ...         ...     ...   \n",
              "160683   26713980D-STM-CH  2019-10-03  2019-10-06       3   \n",
              "160684   26750980V-STM-CH  2019-09-20  2019-09-22       2   \n",
              "160685    25539721S-HA-CH  2019-09-26  2019-09-28       2   \n",
              "160686   26684174M-STM-CH  2019-09-25  2019-09-26       1   \n",
              "160687  308765550D-STM-CH  2021-08-14  2021-08-18       4   \n",
              "\n",
              "                       REGIMEN  ... ID_VIAJACON  VIAJACON          CUPO  \\\n",
              "0                All Inclusive  ...           0       NaN  CUPO CLIENTE   \n",
              "1                All Inclusive  ...           0       NaN  CUPO CLIENTE   \n",
              "2                All Inclusive  ...           0       NaN  CUPO CLIENTE   \n",
              "3                All Inclusive  ...           0       NaN  CUPO CLIENTE   \n",
              "4                All Inclusive  ...           0       NaN  CUPO CLIENTE   \n",
              "...                        ...  ...         ...       ...           ...   \n",
              "160683           All Inclusive  ...           0       NaN  CUPO CLIENTE   \n",
              "160684           All Inclusive  ...           0       NaN  CUPO CLIENTE   \n",
              "160685  Alojamiento y Desayuno  ...           0       NaN  CUPO CLIENTE   \n",
              "160686  Alojamiento y Desayuno  ...           0       NaN  CUPO CLIENTE   \n",
              "160687  Alojamiento y Desayuno  ...           0       NaN  CUPO CLIENTE   \n",
              "\n",
              "        TIPODOCUMENTO  Price_Comercializadora    Price  ESTADO_RESERVA  \\\n",
              "0                 DNI                  584.92   602.52               0   \n",
              "1                 DNI                  683.28   722.88               0   \n",
              "2                 DNI                  651.20   686.40               0   \n",
              "3                 DNI                  651.20   686.40               0   \n",
              "4                 DNI                  179.10   187.90               0   \n",
              "...               ...                     ...      ...             ...   \n",
              "160683            DNI                  784.80   798.00               1   \n",
              "160684            DNI                  836.00   853.60               1   \n",
              "160685            DNI                  856.99   874.59               1   \n",
              "160686            DNI                  380.00   388.80               1   \n",
              "160687            DNI                 2646.00  2663.60               1   \n",
              "\n",
              "       CANELACION      TARGET      ADR  \n",
              "0               3     PAREJAS  301.260  \n",
              "1               3         NaN  240.960  \n",
              "2               3     PAREJAS  171.600  \n",
              "3               3     PAREJAS  171.600  \n",
              "4               3     PAREJAS  187.900  \n",
              "...           ...         ...      ...  \n",
              "160683          3  INDIVIDUAL  266.000  \n",
              "160684          3     PAREJAS  426.800  \n",
              "160685          3     PAREJAS  437.295  \n",
              "160686          3     PAREJAS  388.800  \n",
              "160687          3         NaN  665.900  \n",
              "\n",
              "[160688 rows x 63 columns]"
            ],
            "text/html": [
              "\n",
              "  <div id=\"df-ac4e5ba2-e9d0-46ad-a2fa-e24e5879f450\">\n",
              "    <div class=\"colab-df-container\">\n",
              "      <div>\n",
              "<style scoped>\n",
              "    .dataframe tbody tr th:only-of-type {\n",
              "        vertical-align: middle;\n",
              "    }\n",
              "\n",
              "    .dataframe tbody tr th {\n",
              "        vertical-align: top;\n",
              "    }\n",
              "\n",
              "    .dataframe thead th {\n",
              "        text-align: right;\n",
              "    }\n",
              "</style>\n",
              "<table border=\"1\" class=\"dataframe\">\n",
              "  <thead>\n",
              "    <tr style=\"text-align: right;\">\n",
              "      <th></th>\n",
              "      <th>Unnamed: 0</th>\n",
              "      <th>Unnamed: 0.1</th>\n",
              "      <th>Unnamed: 0.1.1</th>\n",
              "      <th>ID_HOTEL</th>\n",
              "      <th>COD_CENTRAL</th>\n",
              "      <th>LOCALIZADOR</th>\n",
              "      <th>LLEGADA</th>\n",
              "      <th>SALIDA</th>\n",
              "      <th>NOCHES</th>\n",
              "      <th>REGIMEN</th>\n",
              "      <th>...</th>\n",
              "      <th>ID_VIAJACON</th>\n",
              "      <th>VIAJACON</th>\n",
              "      <th>CUPO</th>\n",
              "      <th>TIPODOCUMENTO</th>\n",
              "      <th>Price_Comercializadora</th>\n",
              "      <th>Price</th>\n",
              "      <th>ESTADO_RESERVA</th>\n",
              "      <th>CANELACION</th>\n",
              "      <th>TARGET</th>\n",
              "      <th>ADR</th>\n",
              "    </tr>\n",
              "  </thead>\n",
              "  <tbody>\n",
              "    <tr>\n",
              "      <th>0</th>\n",
              "      <td>0</td>\n",
              "      <td>5871</td>\n",
              "      <td>16017</td>\n",
              "      <td>94</td>\n",
              "      <td>EUR</td>\n",
              "      <td>94CJ2006782M</td>\n",
              "      <td>2021-09-09</td>\n",
              "      <td>2021-09-11</td>\n",
              "      <td>2</td>\n",
              "      <td>All Inclusive</td>\n",
              "      <td>...</td>\n",
              "      <td>0</td>\n",
              "      <td>NaN</td>\n",
              "      <td>CUPO CLIENTE</td>\n",
              "      <td>DNI</td>\n",
              "      <td>584.92</td>\n",
              "      <td>602.52</td>\n",
              "      <td>0</td>\n",
              "      <td>3</td>\n",
              "      <td>PAREJAS</td>\n",
              "      <td>301.260</td>\n",
              "    </tr>\n",
              "    <tr>\n",
              "      <th>1</th>\n",
              "      <td>1</td>\n",
              "      <td>5872</td>\n",
              "      <td>16018</td>\n",
              "      <td>94</td>\n",
              "      <td>EUR</td>\n",
              "      <td>297200290J-STM-CH</td>\n",
              "      <td>2021-10-20</td>\n",
              "      <td>2021-10-23</td>\n",
              "      <td>3</td>\n",
              "      <td>All Inclusive</td>\n",
              "      <td>...</td>\n",
              "      <td>0</td>\n",
              "      <td>NaN</td>\n",
              "      <td>CUPO CLIENTE</td>\n",
              "      <td>DNI</td>\n",
              "      <td>683.28</td>\n",
              "      <td>722.88</td>\n",
              "      <td>0</td>\n",
              "      <td>3</td>\n",
              "      <td>NaN</td>\n",
              "      <td>240.960</td>\n",
              "    </tr>\n",
              "    <tr>\n",
              "      <th>2</th>\n",
              "      <td>2</td>\n",
              "      <td>5873</td>\n",
              "      <td>16019</td>\n",
              "      <td>94</td>\n",
              "      <td>EUR</td>\n",
              "      <td>94CX2055762M</td>\n",
              "      <td>2021-10-20</td>\n",
              "      <td>2021-10-24</td>\n",
              "      <td>4</td>\n",
              "      <td>All Inclusive</td>\n",
              "      <td>...</td>\n",
              "      <td>0</td>\n",
              "      <td>NaN</td>\n",
              "      <td>CUPO CLIENTE</td>\n",
              "      <td>DNI</td>\n",
              "      <td>651.20</td>\n",
              "      <td>686.40</td>\n",
              "      <td>0</td>\n",
              "      <td>3</td>\n",
              "      <td>PAREJAS</td>\n",
              "      <td>171.600</td>\n",
              "    </tr>\n",
              "    <tr>\n",
              "      <th>3</th>\n",
              "      <td>3</td>\n",
              "      <td>5874</td>\n",
              "      <td>16020</td>\n",
              "      <td>94</td>\n",
              "      <td>EUR</td>\n",
              "      <td>94CX2055762M</td>\n",
              "      <td>2021-10-20</td>\n",
              "      <td>2021-10-24</td>\n",
              "      <td>4</td>\n",
              "      <td>All Inclusive</td>\n",
              "      <td>...</td>\n",
              "      <td>0</td>\n",
              "      <td>NaN</td>\n",
              "      <td>CUPO CLIENTE</td>\n",
              "      <td>DNI</td>\n",
              "      <td>651.20</td>\n",
              "      <td>686.40</td>\n",
              "      <td>0</td>\n",
              "      <td>3</td>\n",
              "      <td>PAREJAS</td>\n",
              "      <td>171.600</td>\n",
              "    </tr>\n",
              "    <tr>\n",
              "      <th>4</th>\n",
              "      <td>4</td>\n",
              "      <td>5875</td>\n",
              "      <td>16021</td>\n",
              "      <td>94</td>\n",
              "      <td>EUR</td>\n",
              "      <td>302686970L-STM-CH</td>\n",
              "      <td>2021-10-20</td>\n",
              "      <td>2021-10-21</td>\n",
              "      <td>1</td>\n",
              "      <td>All Inclusive</td>\n",
              "      <td>...</td>\n",
              "      <td>0</td>\n",
              "      <td>NaN</td>\n",
              "      <td>CUPO CLIENTE</td>\n",
              "      <td>DNI</td>\n",
              "      <td>179.10</td>\n",
              "      <td>187.90</td>\n",
              "      <td>0</td>\n",
              "      <td>3</td>\n",
              "      <td>PAREJAS</td>\n",
              "      <td>187.900</td>\n",
              "    </tr>\n",
              "    <tr>\n",
              "      <th>...</th>\n",
              "      <td>...</td>\n",
              "      <td>...</td>\n",
              "      <td>...</td>\n",
              "      <td>...</td>\n",
              "      <td>...</td>\n",
              "      <td>...</td>\n",
              "      <td>...</td>\n",
              "      <td>...</td>\n",
              "      <td>...</td>\n",
              "      <td>...</td>\n",
              "      <td>...</td>\n",
              "      <td>...</td>\n",
              "      <td>...</td>\n",
              "      <td>...</td>\n",
              "      <td>...</td>\n",
              "      <td>...</td>\n",
              "      <td>...</td>\n",
              "      <td>...</td>\n",
              "      <td>...</td>\n",
              "      <td>...</td>\n",
              "      <td>...</td>\n",
              "    </tr>\n",
              "    <tr>\n",
              "      <th>160683</th>\n",
              "      <td>226160</td>\n",
              "      <td>941364</td>\n",
              "      <td>2549257</td>\n",
              "      <td>94</td>\n",
              "      <td>EUR</td>\n",
              "      <td>26713980D-STM-CH</td>\n",
              "      <td>2019-10-03</td>\n",
              "      <td>2019-10-06</td>\n",
              "      <td>3</td>\n",
              "      <td>All Inclusive</td>\n",
              "      <td>...</td>\n",
              "      <td>0</td>\n",
              "      <td>NaN</td>\n",
              "      <td>CUPO CLIENTE</td>\n",
              "      <td>DNI</td>\n",
              "      <td>784.80</td>\n",
              "      <td>798.00</td>\n",
              "      <td>1</td>\n",
              "      <td>3</td>\n",
              "      <td>INDIVIDUAL</td>\n",
              "      <td>266.000</td>\n",
              "    </tr>\n",
              "    <tr>\n",
              "      <th>160684</th>\n",
              "      <td>226161</td>\n",
              "      <td>941365</td>\n",
              "      <td>2549260</td>\n",
              "      <td>94</td>\n",
              "      <td>EUR</td>\n",
              "      <td>26750980V-STM-CH</td>\n",
              "      <td>2019-09-20</td>\n",
              "      <td>2019-09-22</td>\n",
              "      <td>2</td>\n",
              "      <td>All Inclusive</td>\n",
              "      <td>...</td>\n",
              "      <td>0</td>\n",
              "      <td>NaN</td>\n",
              "      <td>CUPO CLIENTE</td>\n",
              "      <td>DNI</td>\n",
              "      <td>836.00</td>\n",
              "      <td>853.60</td>\n",
              "      <td>1</td>\n",
              "      <td>3</td>\n",
              "      <td>PAREJAS</td>\n",
              "      <td>426.800</td>\n",
              "    </tr>\n",
              "    <tr>\n",
              "      <th>160685</th>\n",
              "      <td>226162</td>\n",
              "      <td>941366</td>\n",
              "      <td>2549261</td>\n",
              "      <td>30</td>\n",
              "      <td>EUR</td>\n",
              "      <td>25539721S-HA-CH</td>\n",
              "      <td>2019-09-26</td>\n",
              "      <td>2019-09-28</td>\n",
              "      <td>2</td>\n",
              "      <td>Alojamiento y Desayuno</td>\n",
              "      <td>...</td>\n",
              "      <td>0</td>\n",
              "      <td>NaN</td>\n",
              "      <td>CUPO CLIENTE</td>\n",
              "      <td>DNI</td>\n",
              "      <td>856.99</td>\n",
              "      <td>874.59</td>\n",
              "      <td>1</td>\n",
              "      <td>3</td>\n",
              "      <td>PAREJAS</td>\n",
              "      <td>437.295</td>\n",
              "    </tr>\n",
              "    <tr>\n",
              "      <th>160686</th>\n",
              "      <td>226163</td>\n",
              "      <td>941367</td>\n",
              "      <td>2549264</td>\n",
              "      <td>15</td>\n",
              "      <td>EUR</td>\n",
              "      <td>26684174M-STM-CH</td>\n",
              "      <td>2019-09-25</td>\n",
              "      <td>2019-09-26</td>\n",
              "      <td>1</td>\n",
              "      <td>Alojamiento y Desayuno</td>\n",
              "      <td>...</td>\n",
              "      <td>0</td>\n",
              "      <td>NaN</td>\n",
              "      <td>CUPO CLIENTE</td>\n",
              "      <td>DNI</td>\n",
              "      <td>380.00</td>\n",
              "      <td>388.80</td>\n",
              "      <td>1</td>\n",
              "      <td>3</td>\n",
              "      <td>PAREJAS</td>\n",
              "      <td>388.800</td>\n",
              "    </tr>\n",
              "    <tr>\n",
              "      <th>160687</th>\n",
              "      <td>226187</td>\n",
              "      <td>944943</td>\n",
              "      <td>2560353</td>\n",
              "      <td>30</td>\n",
              "      <td>EUR</td>\n",
              "      <td>308765550D-STM-CH</td>\n",
              "      <td>2021-08-14</td>\n",
              "      <td>2021-08-18</td>\n",
              "      <td>4</td>\n",
              "      <td>Alojamiento y Desayuno</td>\n",
              "      <td>...</td>\n",
              "      <td>0</td>\n",
              "      <td>NaN</td>\n",
              "      <td>CUPO CLIENTE</td>\n",
              "      <td>DNI</td>\n",
              "      <td>2646.00</td>\n",
              "      <td>2663.60</td>\n",
              "      <td>1</td>\n",
              "      <td>3</td>\n",
              "      <td>NaN</td>\n",
              "      <td>665.900</td>\n",
              "    </tr>\n",
              "  </tbody>\n",
              "</table>\n",
              "<p>160688 rows × 63 columns</p>\n",
              "</div>\n",
              "      <button class=\"colab-df-convert\" onclick=\"convertToInteractive('df-ac4e5ba2-e9d0-46ad-a2fa-e24e5879f450')\"\n",
              "              title=\"Convert this dataframe to an interactive table.\"\n",
              "              style=\"display:none;\">\n",
              "        \n",
              "  <svg xmlns=\"http://www.w3.org/2000/svg\" height=\"24px\"viewBox=\"0 0 24 24\"\n",
              "       width=\"24px\">\n",
              "    <path d=\"M0 0h24v24H0V0z\" fill=\"none\"/>\n",
              "    <path d=\"M18.56 5.44l.94 2.06.94-2.06 2.06-.94-2.06-.94-.94-2.06-.94 2.06-2.06.94zm-11 1L8.5 8.5l.94-2.06 2.06-.94-2.06-.94L8.5 2.5l-.94 2.06-2.06.94zm10 10l.94 2.06.94-2.06 2.06-.94-2.06-.94-.94-2.06-.94 2.06-2.06.94z\"/><path d=\"M17.41 7.96l-1.37-1.37c-.4-.4-.92-.59-1.43-.59-.52 0-1.04.2-1.43.59L10.3 9.45l-7.72 7.72c-.78.78-.78 2.05 0 2.83L4 21.41c.39.39.9.59 1.41.59.51 0 1.02-.2 1.41-.59l7.78-7.78 2.81-2.81c.8-.78.8-2.07 0-2.86zM5.41 20L4 18.59l7.72-7.72 1.47 1.35L5.41 20z\"/>\n",
              "  </svg>\n",
              "      </button>\n",
              "      \n",
              "  <style>\n",
              "    .colab-df-container {\n",
              "      display:flex;\n",
              "      flex-wrap:wrap;\n",
              "      gap: 12px;\n",
              "    }\n",
              "\n",
              "    .colab-df-convert {\n",
              "      background-color: #E8F0FE;\n",
              "      border: none;\n",
              "      border-radius: 50%;\n",
              "      cursor: pointer;\n",
              "      display: none;\n",
              "      fill: #1967D2;\n",
              "      height: 32px;\n",
              "      padding: 0 0 0 0;\n",
              "      width: 32px;\n",
              "    }\n",
              "\n",
              "    .colab-df-convert:hover {\n",
              "      background-color: #E2EBFA;\n",
              "      box-shadow: 0px 1px 2px rgba(60, 64, 67, 0.3), 0px 1px 3px 1px rgba(60, 64, 67, 0.15);\n",
              "      fill: #174EA6;\n",
              "    }\n",
              "\n",
              "    [theme=dark] .colab-df-convert {\n",
              "      background-color: #3B4455;\n",
              "      fill: #D2E3FC;\n",
              "    }\n",
              "\n",
              "    [theme=dark] .colab-df-convert:hover {\n",
              "      background-color: #434B5C;\n",
              "      box-shadow: 0px 1px 3px 1px rgba(0, 0, 0, 0.15);\n",
              "      filter: drop-shadow(0px 1px 2px rgba(0, 0, 0, 0.3));\n",
              "      fill: #FFFFFF;\n",
              "    }\n",
              "  </style>\n",
              "\n",
              "      <script>\n",
              "        const buttonEl =\n",
              "          document.querySelector('#df-ac4e5ba2-e9d0-46ad-a2fa-e24e5879f450 button.colab-df-convert');\n",
              "        buttonEl.style.display =\n",
              "          google.colab.kernel.accessAllowed ? 'block' : 'none';\n",
              "\n",
              "        async function convertToInteractive(key) {\n",
              "          const element = document.querySelector('#df-ac4e5ba2-e9d0-46ad-a2fa-e24e5879f450');\n",
              "          const dataTable =\n",
              "            await google.colab.kernel.invokeFunction('convertToInteractive',\n",
              "                                                     [key], {});\n",
              "          if (!dataTable) return;\n",
              "\n",
              "          const docLinkHtml = 'Like what you see? Visit the ' +\n",
              "            '<a target=\"_blank\" href=https://colab.research.google.com/notebooks/data_table.ipynb>data table notebook</a>'\n",
              "            + ' to learn more about interactive tables.';\n",
              "          element.innerHTML = '';\n",
              "          dataTable['output_type'] = 'display_data';\n",
              "          await google.colab.output.renderOutput(dataTable, element);\n",
              "          const docLink = document.createElement('div');\n",
              "          docLink.innerHTML = docLinkHtml;\n",
              "          element.appendChild(docLink);\n",
              "        }\n",
              "      </script>\n",
              "    </div>\n",
              "  </div>\n",
              "  "
            ]
          },
          "metadata": {},
          "execution_count": 2
        }
      ]
    },
    {
      "cell_type": "code",
      "source": [
        "df_data[\"MONEDA\"].unique()"
      ],
      "metadata": {
        "id": "CHcXGz0o0Lty",
        "colab": {
          "base_uri": "https://localhost:8080/"
        },
        "outputId": "3b9a0946-beb0-477a-d0c2-31894c988e3a"
      },
      "execution_count": null,
      "outputs": [
        {
          "output_type": "execute_result",
          "data": {
            "text/plain": [
              "array(['Euro'], dtype=object)"
            ]
          },
          "metadata": {},
          "execution_count": 3
        }
      ]
    },
    {
      "cell_type": "code",
      "source": [
        "#Eliminamos columnas que creemos que no son útiles\n",
        "df_data.drop(['Unnamed: 0', 'Unnamed: 0.1', 'Unnamed: 0.1.1', 'LOCALIZADOR', 'ADULTOS', 'NENES', 'BEBES', 'CM_ID_CONTRATO', 'CM_CONTRATO', 'SEGMENTOCREDITO'], axis = 'columns', inplace=True)"
      ],
      "metadata": {
        "id": "BlBbnWNsMVSz"
      },
      "execution_count": null,
      "outputs": []
    },
    {
      "cell_type": "code",
      "source": [
        "df_data.columns"
      ],
      "metadata": {
        "colab": {
          "base_uri": "https://localhost:8080/"
        },
        "id": "tzhNdp7Chk47",
        "outputId": "6593903c-c22b-4455-eec1-092770ccfb21"
      },
      "execution_count": null,
      "outputs": [
        {
          "output_type": "execute_result",
          "data": {
            "text/plain": [
              "Index(['ID_HOTEL', 'COD_CENTRAL', 'LLEGADA', 'SALIDA', 'NOCHES', 'REGIMEN',\n",
              "       'TIPO', 'USO', 'PAX', 'TIPO_CLIENTE', 'CLIENTE', 'REPETIDOR',\n",
              "       'MANTENER_HIST', 'MULTIPLE', 'CONTRATO', 'MONEDA', 'TIPOFACTURA',\n",
              "       'STATUS', 'ID_MOTIVO', 'SUPLETORIA', 'CUNAS', 'FECHA_MOD', 'FECHA_TTOO',\n",
              "       'DEADLINE', 'SEGMENTO', 'FUENTE', 'FIDELIDAD', 'NUMSOCIO', 'TRATO',\n",
              "       'PAIS', 'VUELO', 'VALHAB', 'VALPEN', 'VALSERV', 'VALFIJOS',\n",
              "       'COMERCIALIZADORA', 'CMVALHAB', 'CMVALPEN', 'CMCVALSERV', 'REGFACTURA',\n",
              "       'GRATIS', 'ID_TIPODOCUMENTO', 'ID_TIPOGRATIS', 'ID_VIAJACON',\n",
              "       'VIAJACON', 'CUPO', 'TIPODOCUMENTO', 'Price_Comercializadora', 'Price',\n",
              "       'ESTADO_RESERVA', 'CANELACION', 'TARGET', 'ADR'],\n",
              "      dtype='object')"
            ]
          },
          "metadata": {},
          "execution_count": 5
        }
      ]
    },
    {
      "cell_type": "code",
      "source": [
        "#Cambiamos formato de fecha\n",
        "df_data['FECHA_TTOO'] = pd.to_datetime(df_data['FECHA_TTOO'], format=\"%Y-%m-%d %H:%M:%S\")"
      ],
      "metadata": {
        "id": "LZGCHB_Kc0pu"
      },
      "execution_count": null,
      "outputs": []
    },
    {
      "cell_type": "code",
      "source": [
        "#Cambiamos formato de fecha LLEGADA\n",
        "df_data['LLEGADA'] = pd.to_datetime(df_data['LLEGADA'], format=\"%Y-%m-%d\")"
      ],
      "metadata": {
        "id": "IMYH5HfeeHc_"
      },
      "execution_count": null,
      "outputs": []
    },
    {
      "cell_type": "code",
      "source": [
        "#Creamos columna con los días de pre. de reserva hasta la llegada\n",
        "df_data[\"LEAD_TIME\"] = (df_data['LLEGADA'] - df_data['FECHA_TTOO']).dt.days"
      ],
      "metadata": {
        "id": "JifyOhF6eP_y"
      },
      "execution_count": null,
      "outputs": []
    },
    {
      "cell_type": "code",
      "source": [
        "df_data[\"MES_LLEGADA\"] = df_data['LLEGADA'].dt.month"
      ],
      "metadata": {
        "id": "Kd4CUpYNdSC3"
      },
      "execution_count": null,
      "outputs": []
    },
    {
      "cell_type": "code",
      "source": [
        "df_data[\"WEEK_LLEGADA\"] = df_data['LLEGADA'].dt.week"
      ],
      "metadata": {
        "colab": {
          "base_uri": "https://localhost:8080/"
        },
        "id": "5Pwrn6jWG_1j",
        "outputId": "1421f213-5fb3-4ace-af6d-3ce1b89e867b"
      },
      "execution_count": null,
      "outputs": [
        {
          "output_type": "stream",
          "name": "stderr",
          "text": [
            "/usr/local/lib/python3.7/dist-packages/ipykernel_launcher.py:1: FutureWarning: Series.dt.weekofyear and Series.dt.week have been deprecated.  Please use Series.dt.isocalendar().week instead.\n",
            "  \"\"\"Entry point for launching an IPython kernel.\n"
          ]
        }
      ]
    },
    {
      "cell_type": "code",
      "source": [
        "df_data[\"WEEKDAY_LLEGADA\"] = df_data['LLEGADA'].dt.weekday"
      ],
      "metadata": {
        "id": "bUshJ24c0mDJ"
      },
      "execution_count": null,
      "outputs": []
    },
    {
      "cell_type": "code",
      "source": [
        "from sklearn.model_selection import KFold"
      ],
      "metadata": {
        "id": "94xMf3TWjeLK"
      },
      "execution_count": null,
      "outputs": []
    },
    {
      "cell_type": "code",
      "source": [
        "from sklearn.model_selection import StratifiedKFold"
      ],
      "metadata": {
        "id": "fqC4mQTykvak"
      },
      "execution_count": null,
      "outputs": []
    },
    {
      "cell_type": "code",
      "source": [
        "folds = StratifiedKFold(n_splits=5, random_state=0, shuffle=True)"
      ],
      "metadata": {
        "id": "ONsc-yRtlFy4"
      },
      "execution_count": null,
      "outputs": []
    },
    {
      "cell_type": "code",
      "source": [
        "df_data = pd.get_dummies(df_data, columns = [\"FIDELIDAD\",'TIPO_CLIENTE'])"
      ],
      "metadata": {
        "id": "xgvojBXcOGEv"
      },
      "execution_count": null,
      "outputs": []
    },
    {
      "cell_type": "code",
      "source": [
        "from sklearn.model_selection import train_test_split\n",
        "feature_list=[\"NOCHES\",\"ADR\",\"PAX\", \"LEAD_TIME\", \"FIDELIDAD_Palladium Rewards\", \"FIDELIDAD_Palladium Connect\", \"MES_LLEGADA\", \"WEEKDAY_LLEGADA\", \"WEEK_LLEGADA\",'TIPO_CLIENTE_1', 'TIPO_CLIENTE_2', 'TIPO_CLIENTE_3', 'TIPO_CLIENTE_9']\n",
        "#X = df_data.drop(\"ESTADO_RESERVA\", axis = 1)\n",
        "X = df_data[feature_list]\n",
        "feature_names = X.columns\n",
        "X = X.values\n",
        "\n",
        "y = df_data[\"ESTADO_RESERVA\"].values\n",
        "\n",
        "X_train, X_test, y_train, y_test = train_test_split(\n",
        "    X, y, random_state=0, test_size=0.2, stratify=y\n",
        ")"
      ],
      "metadata": {
        "id": "symlcPLzifxa"
      },
      "execution_count": null,
      "outputs": []
    },
    {
      "cell_type": "markdown",
      "source": [
        "Bagging (Random Forest)"
      ],
      "metadata": {
        "id": "YNZRvtNB0zXc"
      }
    },
    {
      "cell_type": "code",
      "source": [
        "#Bagging (Random Forest)\n",
        "#Con none pilla la maoyor profundidad posible, random classfier cuanto menos estimators mas complejo\n",
        "from sklearn.ensemble import RandomForestClassifier\n",
        "from sklearn.metrics import roc_auc_score\n",
        "\n",
        "metrics = []\n",
        "\n",
        "for n, (i_train_fold, i_val_fold) in enumerate(folds.split(X_train, y_train)):\n",
        "\n",
        "  x = X_train[i_train_fold]\n",
        "  y = y_train[i_train_fold]\n",
        "  x_val = X_train[i_val_fold]\n",
        "  y_val = y_train[i_val_fold]\n",
        "\n",
        "  rf = RandomForestClassifier(n_estimators = 150, max_depth=\t13).fit(x, y)\n",
        "  y_pred = rf.predict_proba(x)[:, 1]\n",
        "  y_pred_val = rf.predict_proba(x_val)[:, 1]\n",
        "\n",
        "  auc_train = roc_auc_score(y, y_pred)\n",
        "  auc_val = roc_auc_score(y_val, y_pred_val)\n",
        "  \n",
        "  metrics.append((auc_train, auc_val))\n",
        "\n",
        "  print(f\"Fold #{n + 1}: auc_train {auc_train: .4f} - auc_val {auc_val: .4f}\")"
      ],
      "metadata": {
        "id": "1zpmpLVH0y-H",
        "colab": {
          "base_uri": "https://localhost:8080/"
        },
        "outputId": "b6a1c844-7c82-4d94-d920-d3f92715ff5c"
      },
      "execution_count": null,
      "outputs": [
        {
          "output_type": "stream",
          "name": "stdout",
          "text": [
            "Fold #1: auc_train  0.8740 - auc_val  0.8200\n",
            "Fold #2: auc_train  0.8749 - auc_val  0.8212\n",
            "Fold #3: auc_train  0.8757 - auc_val  0.8176\n",
            "Fold #4: auc_train  0.8756 - auc_val  0.8234\n",
            "Fold #5: auc_train  0.8751 - auc_val  0.8177\n"
          ]
        }
      ]
    },
    {
      "cell_type": "code",
      "source": [
        "# Save Data\n",
        "with open('nombredelmodelo.pickle', 'wb') as handle:\n",
        "    pickle.dump(rf, handle, protocol=pickle.HIGHEST_PROTOCOL)\n",
        "# Load Data\n",
        "with open('mombredelmodelo.pickle', 'rb') as handle:\n",
        "    rf = pickle.load(rf)"
      ],
      "metadata": {
        "id": "pt1EL7sOkTWY"
      },
      "execution_count": null,
      "outputs": []
    },
    {
      "cell_type": "code",
      "source": [
        "plt.barh(feature_names, rf.feature_importances_)"
      ],
      "metadata": {
        "id": "wgsTFE2q09HZ",
        "colab": {
          "base_uri": "https://localhost:8080/",
          "height": 282
        },
        "outputId": "51a4bf33-2643-48c5-f518-f006d1815ab6"
      },
      "execution_count": null,
      "outputs": [
        {
          "output_type": "execute_result",
          "data": {
            "text/plain": [
              "<BarContainer object of 9 artists>"
            ]
          },
          "metadata": {},
          "execution_count": 19
        },
        {
          "output_type": "display_data",
          "data": {
            "text/plain": [
              "<Figure size 432x288 with 1 Axes>"
            ],
            "image/png": "[encoded data removed]"
          },
          "metadata": {
            "needs_background": "light"
          }
        }
      ]
    },
    {
      "cell_type": "code",
      "source": [
        "  rf = RandomForestClassifier(n_estimators = 100, max_depth=\t20).fit(X_train, y_train)\n",
        "  y_pred = rf.predict_proba(X_train)[:, 1]\n",
        "  y_pred_val = rf.predict_proba(X_test)[:, 1]"
      ],
      "metadata": {
        "id": "iDZSQyDL0-C3",
        "colab": {
          "base_uri": "https://localhost:8080/",
          "height": 201
        },
        "outputId": "9f4558b1-9880-426f-8853-14545f208dcf"
      },
      "execution_count": null,
      "outputs": [
        {
          "output_type": "error",
          "ename": "NameError",
          "evalue": "ignored",
          "traceback": [
            "\u001b[0;31m---------------------------------------------------------------------------\u001b[0m",
            "\u001b[0;31mNameError\u001b[0m                                 Traceback (most recent call last)",
            "\u001b[0;32m<ipython-input-19-ea183b77a87f>\u001b[0m in \u001b[0;36m<module>\u001b[0;34m\u001b[0m\n\u001b[0;32m----> 1\u001b[0;31m \u001b[0mrf\u001b[0m \u001b[0;34m=\u001b[0m \u001b[0mRandomForestClassifier\u001b[0m\u001b[0;34m(\u001b[0m\u001b[0mn_estimators\u001b[0m \u001b[0;34m=\u001b[0m \u001b[0;36m100\u001b[0m\u001b[0;34m,\u001b[0m \u001b[0mmax_depth\u001b[0m\u001b[0;34m=\u001b[0m      \u001b[0;36m20\u001b[0m\u001b[0;34m)\u001b[0m\u001b[0;34m.\u001b[0m\u001b[0mfit\u001b[0m\u001b[0;34m(\u001b[0m\u001b[0mX_train\u001b[0m\u001b[0;34m,\u001b[0m \u001b[0my_train\u001b[0m\u001b[0;34m)\u001b[0m\u001b[0;34m\u001b[0m\u001b[0;34m\u001b[0m\u001b[0m\n\u001b[0m\u001b[1;32m      2\u001b[0m \u001b[0my_pred\u001b[0m \u001b[0;34m=\u001b[0m \u001b[0mrf\u001b[0m\u001b[0;34m.\u001b[0m\u001b[0mpredict_proba\u001b[0m\u001b[0;34m(\u001b[0m\u001b[0mX_train\u001b[0m\u001b[0;34m)\u001b[0m\u001b[0;34m[\u001b[0m\u001b[0;34m:\u001b[0m\u001b[0;34m,\u001b[0m \u001b[0;36m1\u001b[0m\u001b[0;34m]\u001b[0m\u001b[0;34m\u001b[0m\u001b[0;34m\u001b[0m\u001b[0m\n\u001b[1;32m      3\u001b[0m \u001b[0my_pred_val\u001b[0m \u001b[0;34m=\u001b[0m \u001b[0mrf\u001b[0m\u001b[0;34m.\u001b[0m\u001b[0mpredict_proba\u001b[0m\u001b[0;34m(\u001b[0m\u001b[0mX_test\u001b[0m\u001b[0;34m)\u001b[0m\u001b[0;34m[\u001b[0m\u001b[0;34m:\u001b[0m\u001b[0;34m,\u001b[0m \u001b[0;36m1\u001b[0m\u001b[0;34m]\u001b[0m\u001b[0;34m\u001b[0m\u001b[0;34m\u001b[0m\u001b[0m\n",
            "\u001b[0;31mNameError\u001b[0m: name 'X_train' is not defined"
          ]
        }
      ]
    },
    {
      "cell_type": "code",
      "source": [
        "  auc_train = roc_auc_score(y_train, y_pred)\n",
        "  auc_val = roc_auc_score(y_test, y_pred_val)\n",
        "  print(auc_train, auc_val)"
      ],
      "metadata": {
        "id": "4Xyov5Yf1BiC",
        "colab": {
          "base_uri": "https://localhost:8080/",
          "height": 201
        },
        "outputId": "2d64e61b-0951-4f17-d750-e9e9aa705039"
      },
      "execution_count": null,
      "outputs": [
        {
          "output_type": "error",
          "ename": "NameError",
          "evalue": "ignored",
          "traceback": [
            "\u001b[0;31m---------------------------------------------------------------------------\u001b[0m",
            "\u001b[0;31mNameError\u001b[0m                                 Traceback (most recent call last)",
            "\u001b[0;32m<ipython-input-20-e6f49727582b>\u001b[0m in \u001b[0;36m<module>\u001b[0;34m\u001b[0m\n\u001b[0;32m----> 1\u001b[0;31m \u001b[0mauc_train\u001b[0m \u001b[0;34m=\u001b[0m \u001b[0mroc_auc_score\u001b[0m\u001b[0;34m(\u001b[0m\u001b[0my_train\u001b[0m\u001b[0;34m,\u001b[0m \u001b[0my_pred\u001b[0m\u001b[0;34m)\u001b[0m\u001b[0;34m\u001b[0m\u001b[0;34m\u001b[0m\u001b[0m\n\u001b[0m\u001b[1;32m      2\u001b[0m \u001b[0mauc_val\u001b[0m \u001b[0;34m=\u001b[0m \u001b[0mroc_auc_score\u001b[0m\u001b[0;34m(\u001b[0m\u001b[0my_test\u001b[0m\u001b[0;34m,\u001b[0m \u001b[0my_pred_val\u001b[0m\u001b[0;34m)\u001b[0m\u001b[0;34m\u001b[0m\u001b[0;34m\u001b[0m\u001b[0m\n\u001b[1;32m      3\u001b[0m \u001b[0mprint\u001b[0m\u001b[0;34m(\u001b[0m\u001b[0mauc_train\u001b[0m\u001b[0;34m,\u001b[0m \u001b[0mauc_val\u001b[0m\u001b[0;34m)\u001b[0m\u001b[0;34m\u001b[0m\u001b[0;34m\u001b[0m\u001b[0m\n",
            "\u001b[0;31mNameError\u001b[0m: name 'y_train' is not defined"
          ]
        }
      ]
    },
    {
      "cell_type": "code",
      "source": [
        "sklearn.metrics.plot_roc_curve(rf, x_val, y_val)"
      ],
      "metadata": {
        "colab": {
          "base_uri": "https://localhost:8080/",
          "height": 351
        },
        "id": "J_FVQ41cK5dX",
        "outputId": "6ba3302a-68da-4e93-890a-f27a481b6323"
      },
      "execution_count": null,
      "outputs": [
        {
          "output_type": "stream",
          "name": "stderr",
          "text": [
            "/usr/local/lib/python3.7/dist-packages/sklearn/utils/deprecation.py:87: FutureWarning: Function plot_roc_curve is deprecated; Function :func:`plot_roc_curve` is deprecated in 1.0 and will be removed in 1.2. Use one of the class methods: :meth:`sklearn.metric.RocCurveDisplay.from_predictions` or :meth:`sklearn.metric.RocCurveDisplay.from_estimator`.\n",
            "  warnings.warn(msg, category=FutureWarning)\n"
          ]
        },
        {
          "output_type": "execute_result",
          "data": {
            "text/plain": [
              "<sklearn.metrics._plot.roc_curve.RocCurveDisplay at 0x7fdca38d3950>"
            ]
          },
          "metadata": {},
          "execution_count": 30
        },
        {
          "output_type": "display_data",
          "data": {
            "text/plain": [
              "<Figure size 432x288 with 1 Axes>"
            ],
            "image/png": "[encoded data removed]"
          },
          "metadata": {
            "needs_background": "light"
          }
        }
      ]
    }
  ]
}